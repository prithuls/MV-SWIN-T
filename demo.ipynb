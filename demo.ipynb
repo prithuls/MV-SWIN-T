{
 "cells": [
  {
   "cell_type": "code",
   "execution_count": 1,
   "metadata": {},
   "outputs": [],
   "source": [
    "import torch\n",
    "import torch.nn as nn\n",
    "import torch.optim as optim\n",
    "from torchvision.transforms import v2 as transforms\n",
    "from torch.utils.data import DataLoader\n",
    "import time\n",
    "from sklearn import metrics\n",
    "import wandb"
   ]
  },
  {
   "cell_type": "code",
   "execution_count": 4,
   "metadata": {},
   "outputs": [],
   "source": [
    "## Import dataset modules and model\n",
    "from dataset_classification_vindr import MakeDataset_VinDr_classification\n",
    "from models.mvswintransformer import MVSwinTransformer"
   ]
  },
  {
   "cell_type": "code",
   "execution_count": 3,
   "metadata": {},
   "outputs": [
    {
     "name": "stdout",
     "output_type": "stream",
     "text": [
      "Available GPUs:  2\n",
      "Current device ID:  0\n",
      "NVIDIA A30\n",
      "Memory Usage:\n",
      "Allocated: 0.0 GB\n",
      "Cached:    0.0 GB\n",
      "NVIDIA A30\n",
      "Memory Usage:\n",
      "Allocated: 0.0 GB\n",
      "Cached:    0.0 GB\n"
     ]
    }
   ],
   "source": [
    "## Devices\n",
    "device = torch.device(\"cuda\" if torch.cuda.is_available() else \"cpu\")\n",
    "print(\"Available GPUs: \", torch.cuda.device_count())\n",
    "print(\"Current device ID: \", torch.cuda.current_device())"
   ]
  },
  {
   "cell_type": "code",
   "execution_count": 5,
   "metadata": {},
   "outputs": [],
   "source": [
    "## Configuration\n",
    "extension = \".png\"\n",
    "target_size = 384\n",
    "window_size = 12"
   ]
  },
  {
   "cell_type": "code",
   "execution_count": 6,
   "metadata": {},
   "outputs": [],
   "source": [
    "# Define hyperparameters\n",
    "batch_size = 16\n",
    "learning_rate = 1e-4\n",
    "epochs = 2\n",
    "threshold = 0.5\n",
    "weight_decay = 1e-3"
   ]
  },
  {
   "cell_type": "code",
   "execution_count": 8,
   "metadata": {},
   "outputs": [],
   "source": [
    "## Data Paths\n",
    "image_dir = \"./dataset/VinDr_Mammo/Images_Processed_CLAHE\"\n",
    "label_dir_csv =\"./dataset/VinDr_Mammo/breast-level_annotations.csv\""
   ]
  },
  {
   "cell_type": "code",
   "execution_count": null,
   "metadata": {},
   "outputs": [],
   "source": [
    "## Data Loaders\n",
    "\n",
    "transform = transforms.Compose([transforms.Resize((target_size, target_size)), transforms.ToTensor()])\n",
    "\n",
    "train_dataloader = MakeDataset_VinDr_classification(image_dir = image_dir,\n",
    "                                                        label_dir_csv = label_dir_csv,\n",
    "                                                        transform=transform,\n",
    "                                                        mode='train',\n",
    "                                                        split_size= 0.2,\n",
    "                                                        target_size= target_size)\n",
    "\n",
    "val_dataloader = MakeDataset_VinDr_classification(image_dir = image_dir,\n",
    "                                                        label_dir_csv = label_dir_csv,\n",
    "                                                        transform=transform,\n",
    "                                                        mode='val',\n",
    "                                                        split_size= 0.2,\n",
    "                                                        target_size= target_size)\n",
    "\n",
    "test_dataloader = MakeDataset_VinDr_classification(image_dir = image_dir,\n",
    "                                                        label_dir_csv = label_dir_csv,\n",
    "                                                        transform=transform,\n",
    "                                                        mode='test',\n",
    "                                                        split_size= None,\n",
    "                                                        target_size= target_size)\n",
    "\n",
    "train_loader = DataLoader(train_dataloader, batch_size=batch_size, shuffle=True, num_workers=64)\n",
    "val_loader = DataLoader(val_dataloader, batch_size=batch_size, num_workers=64)\n",
    "test_loader = DataLoader(test_dataloader, batch_size=batch_size, num_workers=64)"
   ]
  },
  {
   "cell_type": "code",
   "execution_count": 10,
   "metadata": {},
   "outputs": [],
   "source": []
  },
  {
   "cell_type": "code",
   "execution_count": null,
   "metadata": {},
   "outputs": [],
   "source": []
  },
  {
   "cell_type": "code",
   "execution_count": null,
   "metadata": {},
   "outputs": [],
   "source": [
    "# Create an instance of your model\n",
    "model = MVSwinTransformer(img_size= target_size, window_size= window_size).to(device)"
   ]
  },
  {
   "cell_type": "code",
   "execution_count": 12,
   "metadata": {},
   "outputs": [
    {
     "name": "stdout",
     "output_type": "stream",
     "text": [
      "Total number of parameters:  29  mil\n",
      "Total number of trainable parameters:  29  mil\n"
     ]
    }
   ],
   "source": [
    "pytorch_total_params = sum(p.numel() for p in model.parameters())\n",
    "pytorch_total_trainable_params = sum(p.numel() for p in model.parameters() if p.requires_grad)\n",
    "print(\"Total number of parameters: \", pytorch_total_params // 10 ** 6, \" mil\")\n",
    "print(\"Total number of trainable parameters: \", pytorch_total_trainable_params // 10 ** 6, \" mil\")"
   ]
  },
  {
   "cell_type": "code",
   "execution_count": 13,
   "metadata": {},
   "outputs": [],
   "source": [
    "class EarlyStopper:\n",
    "    def __init__(self, patience=1, min_delta=0):\n",
    "        self.patience = patience\n",
    "        self.min_delta = min_delta\n",
    "        self.counter = 0\n",
    "        self.min_validation_loss = float('inf')\n",
    "\n",
    "    def early_stop(self, validation_loss):\n",
    "        if validation_loss < self.min_validation_loss:\n",
    "            self.min_validation_loss = validation_loss\n",
    "            self.counter = 0\n",
    "        elif validation_loss > (self.min_validation_loss + self.min_delta):\n",
    "            self.counter += 1\n",
    "            if self.counter >= self.patience:\n",
    "                return True\n",
    "        return False"
   ]
  },
  {
   "cell_type": "code",
   "execution_count": 14,
   "metadata": {},
   "outputs": [],
   "source": [
    "optimizer = optim.Adam(model.parameters(), lr=learning_rate)\n",
    "scheduler = torch.optim.lr_scheduler.ReduceLROnPlateau(optimizer, 'min', patience= 20)\n",
    "criterion = nn.BCELoss()\n",
    "early_stopper = EarlyStopper(patience=75, min_delta=0)\n",
    "curr_best_val_acc = 0.0"
   ]
  },
  {
   "cell_type": "code",
   "execution_count": null,
   "metadata": {},
   "outputs": [],
   "source": []
  },
  {
   "cell_type": "code",
   "execution_count": 16,
   "metadata": {
    "tags": []
   },
   "outputs": [
    {
     "name": "stdout",
     "output_type": "stream",
     "text": [
      "----------\n",
      "#########Epoch:  1\n",
      "Epoch 1, Loss: 0.20529883645428346\n",
      "Training complete in 5m 8s and current learning rate is 0.0001.\n",
      "Accuracy of the network on the train images: 94.924 %\n",
      "Accuracy of the network on the val images: 95.050 % and val loss: 4.95000\n",
      "----------\n",
      "#########Epoch:  2\n",
      "Epoch 2, Loss: 0.198341371409595\n",
      "Training complete in 5m 9s and current learning rate is 0.0001.\n",
      "Accuracy of the network on the train images: 95.062 %\n",
      "Accuracy of the network on the val images: 95.050 % and val loss: 4.95000\n"
     ]
    }
   ],
   "source": [
    "# Training loop\n",
    "for epoch in range(1, epochs + 1):\n",
    "    since = time.time()\n",
    "    print('-' * 10)\n",
    "    model.train()  # Set the model to training mode\n",
    "    running_loss = 0.0\n",
    "    print(\"#########Epoch: \", epoch)\n",
    "    total = 0\n",
    "    correct = 0\n",
    "    for i, data in enumerate(train_loader):\n",
    "        inputs_cc, inputs_mlo, labels = data\n",
    "        inputs_cc, inputs_mlo, labels = inputs_cc.float().to(device), inputs_mlo.float().to(device), labels.float().to(device)\n",
    "\n",
    "        labels = labels.unsqueeze(1)\n",
    "        predicted = model(inputs_cc, inputs_mlo)\n",
    "        \n",
    "        total_loss = criterion(predicted, labels)\n",
    "        predicted = (predicted > threshold).float()\n",
    "        \n",
    "        optimizer.zero_grad()\n",
    "        total_loss.backward()\n",
    "        optimizer.step()\n",
    "      \n",
    "        running_loss += total_loss.item()\n",
    "        total += labels.size(0)\n",
    "        correct += (predicted == labels).sum().item()\n",
    "    # Print the average loss for this epoch\n",
    "    running_loss = running_loss / len(train_loader)\n",
    "    print(f\"Epoch {epoch}, Loss: {running_loss}\")\n",
    "    \n",
    "    time_elapsed = time.time() - since\n",
    "    curr_lr = optimizer.param_groups[0][\"lr\"]\n",
    "    print('Training complete in {:.0f}m {:.0f}s and current learning rate is {}.'.format(time_elapsed // 60, time_elapsed % 60, curr_lr))\n",
    "    \n",
    "    # Calculate accuracy for training\n",
    "    train_acc = 100 * correct / total\n",
    "    print(f'Accuracy of the network on the train images: {train_acc:.3f} %')\n",
    "\n",
    "    # Validation loop\n",
    "    model.eval()  # Set the model to evaluation mode\n",
    "    total = 0\n",
    "    correct = 0\n",
    "    running_val_loss = 0.0\n",
    "    predicted_prob_val = []\n",
    "    true_labels_val = []\n",
    "\n",
    "    with torch.no_grad():\n",
    "        for data in val_loader:  # Use val_loader for validation\n",
    "            inputs_cc, inputs_mlo, labels = data\n",
    "            inputs_cc, inputs_mlo, labels = inputs_cc.float().to(device), inputs_mlo.float().to(device), labels.float().to(device)\n",
    "            \n",
    "            labels = labels.unsqueeze(1)\n",
    "            predicted = model(inputs_cc, inputs_mlo)\n",
    "            \n",
    "            total_loss = criterion(predicted, labels)\n",
    "            predicted = (predicted > threshold).float()\n",
    "            \n",
    "            running_val_loss += total_loss.item()\n",
    "            total += labels.size(0)\n",
    "            correct += (predicted == labels).sum().item()\n",
    "    \n",
    "    # Calculate accuracy for validation\n",
    "    val_acc = 100 * correct / total\n",
    "    running_val_loss = running_val_loss / len(val_loader)\n",
    "    print(f'Accuracy of the network on the val images: {val_acc:.3f} % and val loss: {running_val_loss:0.5f}')\n",
    "    \n",
    "    scheduler.step(running_val_loss)\n",
    "    "
   ]
  },
  {
   "cell_type": "code",
   "execution_count": null,
   "metadata": {},
   "outputs": [],
   "source": []
  }
 ],
 "metadata": {
  "kernelspec": {
   "display_name": "pytorch",
   "language": "python",
   "name": "pytorch"
  },
  "language_info": {
   "codemirror_mode": {
    "name": "ipython",
    "version": 3
   },
   "file_extension": ".py",
   "mimetype": "text/x-python",
   "name": "python",
   "nbconvert_exporter": "python",
   "pygments_lexer": "ipython3",
   "version": "3.8.17"
  }
 },
 "nbformat": 4,
 "nbformat_minor": 4
}
